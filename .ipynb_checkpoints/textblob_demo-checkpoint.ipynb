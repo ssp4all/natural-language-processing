{
 "cells": [
  {
   "cell_type": "code",
   "execution_count": 1,
   "metadata": {
    "colab": {},
    "colab_type": "code",
    "id": "V9mZRvHV6fer"
   },
   "outputs": [
    {
     "ename": "ModuleNotFoundError",
     "evalue": "No module named 'textblob'",
     "output_type": "error",
     "traceback": [
      "\u001b[0;31m--------------------------------------------------------------------------\u001b[0m",
      "\u001b[0;31mModuleNotFoundError\u001b[0m                      Traceback (most recent call last)",
      "\u001b[0;32m<ipython-input-1-17f3d3d87681>\u001b[0m in \u001b[0;36m<module>\u001b[0;34m()\u001b[0m\n\u001b[1;32m      1\u001b[0m \u001b[0;32mimport\u001b[0m \u001b[0mnltk\u001b[0m\u001b[0;34m\u001b[0m\u001b[0m\n\u001b[1;32m      2\u001b[0m \u001b[0;31m# from nltk.book import *\u001b[0m\u001b[0;34m\u001b[0m\u001b[0;34m\u001b[0m\u001b[0m\n\u001b[0;32m----> 3\u001b[0;31m \u001b[0;32mfrom\u001b[0m \u001b[0mtextblob\u001b[0m \u001b[0;32mimport\u001b[0m \u001b[0mTextBlob\u001b[0m\u001b[0;34m\u001b[0m\u001b[0m\n\u001b[0m\u001b[1;32m      4\u001b[0m \u001b[0;34m\u001b[0m\u001b[0m\n",
      "\u001b[0;31mModuleNotFoundError\u001b[0m: No module named 'textblob'"
     ]
    }
   ],
   "source": [
    "import nltk\n",
    "# from nltk.book import *\n",
    "from textblob import TextBlob\n",
    "\n"
   ]
  },
  {
   "cell_type": "code",
   "execution_count": 16,
   "metadata": {
    "colab": {
     "base_uri": "https://localhost:8080/",
     "height": 168
    },
    "colab_type": "code",
    "executionInfo": {
     "elapsed": 1370,
     "status": "ok",
     "timestamp": 1549862573363,
     "user": {
      "displayName": "SURAJ PAWAR",
      "photoUrl": "https://lh3.googleusercontent.com/-AyjYqK2CgTs/AAAAAAAAAAI/AAAAAAAAAi0/7DFu2E8Fno8/s64/photo.jpg",
      "userId": "15683806829583900212"
     },
     "user_tz": -330
    },
    "id": "Lk82B-jX6tTs",
    "outputId": "baeda488-fd45-4909-c475-1ed2c2070fbd"
   },
   "outputs": [
    {
     "name": "stdout",
     "output_type": "stream",
     "text": [
      "[nltk_data] Downloading package punkt to /root/nltk_data...\n",
      "[nltk_data]   Package punkt is already up-to-date!\n",
      "[nltk_data] Downloading package averaged_perceptron_tagger to\n",
      "[nltk_data]     /root/nltk_data...\n",
      "[nltk_data]   Package averaged_perceptron_tagger is already up-to-\n",
      "[nltk_data]       date!\n",
      "[nltk_data] Downloading package brown to /root/nltk_data...\n",
      "[nltk_data]   Unzipping corpora/brown.zip.\n"
     ]
    },
    {
     "data": {
      "text/plain": [
       "True"
      ]
     },
     "execution_count": 16,
     "metadata": {
      "tags": []
     },
     "output_type": "execute_result"
    }
   ],
   "source": [
    "nltk.download('punkt')\n",
    "nltk.download('averaged_perceptron_tagger')\n",
    "nltk.download('brown')"
   ]
  },
  {
   "cell_type": "code",
   "execution_count": 28,
   "metadata": {
    "colab": {
     "base_uri": "https://localhost:8080/",
     "height": 151
    },
    "colab_type": "code",
    "executionInfo": {
     "elapsed": 1432,
     "status": "ok",
     "timestamp": 1549862958441,
     "user": {
      "displayName": "SURAJ PAWAR",
      "photoUrl": "https://lh3.googleusercontent.com/-AyjYqK2CgTs/AAAAAAAAAAI/AAAAAAAAAi0/7DFu2E8Fno8/s64/photo.jpg",
      "userId": "15683806829583900212"
     },
     "user_tz": -330
    },
    "id": "ZvbYl1kw7LgJ",
    "outputId": "fdd22cbb-3751-4790-fc03-cb9f03cbdbd9"
   },
   "outputs": [
    {
     "name": "stdout",
     "output_type": "stream",
     "text": [
      "0.5666666666666667\n",
      "0.5\n",
      "0.21428571428571427\n",
      "0.0\n",
      "0.0\n",
      "0.3\n",
      "1.0\n",
      "0.1\n"
     ]
    }
   ],
   "source": [
    "\n",
    "text = '''\n",
    "Do conform to the site's robot.txt request, this is probably one of the best and most ethical ways of coming to an agreement without speaking to anyone on the site.\n",
    "Do identify yourself appropriately in the UserAgent header. By doing this, the site can see who you are and restrict/allow certain areas of their site to you explicitly. For example look at the big guy's user agents, Google is listed below, and devise one similar which has a page describing who you are and how to inform your bots crawling.\n",
    "Google's user-agent string : Googlebot/1.0 (googlebot@googlebot.com http://googlebot.com/)\n",
    "Do use compression gzip/deflate if site supports, this saves you time and the site bandwidth.\n",
    "You should be ok from a legal standpoint (although I am no attorney nor legal expert) should you follow their robots.txt AND terms of service.\n",
    "In the end however I think the best advice was from runrunraygun considering its a lone site. Contacting the administrator and seeing what would be acceptable and respecting their wishes will get you far.\n",
    "'''\n",
    "\n",
    "blob = TextBlob(text)\n",
    "# print(blob)\n",
    "# blob.tags           # [('The', 'DT'), ('titular', 'JJ'),\n",
    "#                     #  ('threat', 'NN'), ('of', 'IN'), ...]\n",
    "\n",
    "blob.noun_phrases   # WordList(['titular threat', 'blob',\n",
    "#                     #            'ultimate movie monster',\n",
    "#                     #            'amoeba-like mass', ...])\n",
    "\n",
    "for sentence in blob.sentences:\n",
    "    print(sentence.sentiment.polarity)\n",
    "# 0.060\n",
    "# -0.341\n",
    "\n",
    "# blob.translate(to=\"es\")  # 'La amenaza titular de The Blob...'"
   ]
  },
  {
   "cell_type": "code",
   "execution_count": 0,
   "metadata": {
    "colab": {},
    "colab_type": "code",
    "id": "tT_MC08YB2Mh"
   },
   "outputs": [],
   "source": [
    "!python -m textblob.download_corpora"
   ]
  },
  {
   "cell_type": "code",
   "execution_count": 30,
   "metadata": {
    "colab": {
     "base_uri": "https://localhost:8080/",
     "height": 54
    },
    "colab_type": "code",
    "executionInfo": {
     "elapsed": 1328,
     "status": "ok",
     "timestamp": 1549863420901,
     "user": {
      "displayName": "SURAJ PAWAR",
      "photoUrl": "https://lh3.googleusercontent.com/-AyjYqK2CgTs/AAAAAAAAAAI/AAAAAAAAAi0/7DFu2E8Fno8/s64/photo.jpg",
      "userId": "15683806829583900212"
     },
     "user_tz": -330
    },
    "id": "6nE1y02_DkD2",
    "outputId": "1e69e949-eeb6-49b5-a038-a4e6e5390e94"
   },
   "outputs": [
    {
     "data": {
      "text/plain": [
       "WordList([\"\\nDo conform to the site's robot.txt request, this is probably one of the best and most ethical ways of coming to an agreement without speaking to anyone on the site.\\nDo identify yourself appropriately in the UserAgent header. By doing this, the site can see who you are and restrict/allow certain areas of their site to you explicitly. For example look at the big guy's user agents, Google is listed below, and devise one similar which has a page describing who you are and how to inform your bots crawling.\\nGoogle's user-agent string : Googlebot/1.0 (googlebot@googlebot.com http://googlebot.com/)\\nDo use compression gzip/deflate if site supports, this saves you time and the site bandwidth.\\nYou should be ok from a legal standpoint (although I am no attorney nor legal expert) should you follow their robots.txt AND terms of service.\\nIn the end however I think the best advice was from runrunraygun considering its a lone site. Contacting the administrator and seeing what would be acceptable and respecting their wishes will get you far.\\n\"])"
      ]
     },
     "execution_count": 30,
     "metadata": {
      "tags": []
     },
     "output_type": "execute_result"
    }
   ],
   "source": [
    "from textblob import TextBlob\n",
    "from nltk.tokenize import TabTokenizer\n",
    "tokenizer = TabTokenizer()\n",
    "blob = TextBlob(text, tokenizer=tokenizer)\n",
    "blob.tokens"
   ]
  },
  {
   "cell_type": "code",
   "execution_count": 34,
   "metadata": {
    "colab": {
     "base_uri": "https://localhost:8080/",
     "height": 54
    },
    "colab_type": "code",
    "executionInfo": {
     "elapsed": 1111,
     "status": "ok",
     "timestamp": 1549863562038,
     "user": {
      "displayName": "SURAJ PAWAR",
      "photoUrl": "https://lh3.googleusercontent.com/-AyjYqK2CgTs/AAAAAAAAAAI/AAAAAAAAAi0/7DFu2E8Fno8/s64/photo.jpg",
      "userId": "15683806829583900212"
     },
     "user_tz": -330
    },
    "id": "mXftN6OfD9_Y",
    "outputId": "d2fa7af3-c4fc-4883-904b-912c8c0420c0"
   },
   "outputs": [
    {
     "data": {
      "text/plain": [
       "WordList([\"Do conform to the site's robot.txt request, this is probably one of the best and most ethical ways of coming to an agreement without speaking to anyone on the site.\\nDo identify yourself appropriately in the UserAgent header. By doing this, the site can see who you are and restrict/allow certain areas of their site to you explicitly. For example look at the big guy's user agents, Google is listed below, and devise one similar which has a page describing who you are and how to inform your bots crawling.\\nGoogle's user-agent string : Googlebot/1.0 (googlebot@googlebot.com http://googlebot.com/)\\nDo use compression gzip/deflate if site supports, this saves you time and the site bandwidth.\\nYou should be ok from a legal standpoint (although I am no attorney nor legal expert) should you follow their robots.txt AND terms of service.\\nIn the end however I think the best advice was from runrunraygun considering its a lone site. Contacting the administrator and seeing what would be acceptable and respecting their wishes will get you far.\"])"
      ]
     },
     "execution_count": 34,
     "metadata": {
      "tags": []
     },
     "output_type": "execute_result"
    }
   ],
   "source": [
    "from textblob import TextBlob\n",
    "from nltk.tokenize import BlanklineTokenizer\n",
    "tokenizer = BlanklineTokenizer()\n",
    "blob = TextBlob(text.strip('\\n'))\n",
    "blob.tokenize(tokenizer)"
   ]
  },
  {
   "cell_type": "code",
   "execution_count": 35,
   "metadata": {
    "colab": {
     "base_uri": "https://localhost:8080/",
     "height": 54
    },
    "colab_type": "code",
    "executionInfo": {
     "elapsed": 4432,
     "status": "ok",
     "timestamp": 1549863605433,
     "user": {
      "displayName": "SURAJ PAWAR",
      "photoUrl": "https://lh3.googleusercontent.com/-AyjYqK2CgTs/AAAAAAAAAAI/AAAAAAAAAi0/7DFu2E8Fno8/s64/photo.jpg",
      "userId": "15683806829583900212"
     },
     "user_tz": -330
    },
    "id": "egxtgeCLEV4R",
    "outputId": "4d4347ef-ec44-480f-a828-fb097b36b6f4"
   },
   "outputs": [
    {
     "data": {
      "text/plain": [
       "WordList(['robot.txt request', 'useragent header', 'big guy', 'google', 'google', 'user-agent string', 'googlebot/1.0', 'googlebot@googlebot.com http://googlebot.com/', 'use compression', 'site bandwidth', 'legal standpoint', 'legal expert', 'lone site'])"
      ]
     },
     "execution_count": 35,
     "metadata": {
      "tags": []
     },
     "output_type": "execute_result"
    }
   ],
   "source": [
    ">>> from textblob import TextBlob\n",
    ">>> from textblob.np_extractors import ConllExtractor\n",
    ">>> extractor = ConllExtractor()\n",
    ">>> blob = TextBlob(text, np_extractor=extractor)\n",
    ">>> blob.noun_phrases"
   ]
  },
  {
   "cell_type": "code",
   "execution_count": 37,
   "metadata": {
    "colab": {
     "base_uri": "https://localhost:8080/",
     "height": 339
    },
    "colab_type": "code",
    "executionInfo": {
     "elapsed": 25810,
     "status": "ok",
     "timestamp": 1549863950644,
     "user": {
      "displayName": "SURAJ PAWAR",
      "photoUrl": "https://lh3.googleusercontent.com/-AyjYqK2CgTs/AAAAAAAAAAI/AAAAAAAAAi0/7DFu2E8Fno8/s64/photo.jpg",
      "userId": "15683806829583900212"
     },
     "user_tz": -330
    },
    "id": "2IPWjtLnFXzH",
    "outputId": "792154eb-7b63-4beb-be1b-5a36fff36b79"
   },
   "outputs": [
    {
     "name": "stdout",
     "output_type": "stream",
     "text": [
      "Collecting googler\n",
      "  Downloading https://files.pythonhosted.org/packages/b6/80/501745744e604e63dd204a0749122d3fdc8aaae73ff7d6531a4ca5c34a76/googler-1.0.1.zip\n",
      "Collecting pycrypto (from googler)\n",
      "\u001b[?25l  Downloading https://files.pythonhosted.org/packages/60/db/645aa9af249f059cc3a368b118de33889219e0362141e75d4eaf6f80f163/pycrypto-2.6.1.tar.gz (446kB)\n",
      "\u001b[K    100% |████████████████████████████████| 450kB 14.6MB/s \n",
      "\u001b[?25hRequirement already satisfied: requests in /usr/local/lib/python3.6/dist-packages (from googler) (2.18.4)\n",
      "Requirement already satisfied: certifi>=2017.4.17 in /usr/local/lib/python3.6/dist-packages (from requests->googler) (2018.11.29)\n",
      "Requirement already satisfied: chardet<3.1.0,>=3.0.2 in /usr/local/lib/python3.6/dist-packages (from requests->googler) (3.0.4)\n",
      "Requirement already satisfied: idna<2.7,>=2.5 in /usr/local/lib/python3.6/dist-packages (from requests->googler) (2.6)\n",
      "Requirement already satisfied: urllib3<1.23,>=1.21.1 in /usr/local/lib/python3.6/dist-packages (from requests->googler) (1.22)\n",
      "Building wheels for collected packages: googler, pycrypto\n",
      "  Building wheel for googler (setup.py) ... \u001b[?25ldone\n",
      "\u001b[?25h  Stored in directory: /root/.cache/pip/wheels/6b/7f/0e/a7e3e9653ce7885d6053322eaea3dc088656c36eb81b630a53\n",
      "  Building wheel for pycrypto (setup.py) ... \u001b[?25ldone\n",
      "\u001b[?25h  Stored in directory: /root/.cache/pip/wheels/27/02/5e/77a69d0c16bb63c6ed32f5386f33a2809c94bd5414a2f6c196\n",
      "Successfully built googler pycrypto\n",
      "Installing collected packages: pycrypto, googler\n",
      "Successfully installed googler-1.0.1 pycrypto-2.6.1\n"
     ]
    }
   ],
   "source": [
    "!pip install googler\n"
   ]
  },
  {
   "cell_type": "code",
   "execution_count": 39,
   "metadata": {
    "colab": {
     "base_uri": "https://localhost:8080/",
     "height": 34
    },
    "colab_type": "code",
    "executionInfo": {
     "elapsed": 4626,
     "status": "ok",
     "timestamp": 1549864067029,
     "user": {
      "displayName": "SURAJ PAWAR",
      "photoUrl": "https://lh3.googleusercontent.com/-AyjYqK2CgTs/AAAAAAAAAAI/AAAAAAAAAi0/7DFu2E8Fno8/s64/photo.jpg",
      "userId": "15683806829583900212"
     },
     "user_tz": -330
    },
    "id": "1vKEXMB6Ftad",
    "outputId": "c154972d-903b-490f-cd0e-063b1bb059dc"
   },
   "outputs": [
    {
     "name": "stdout",
     "output_type": "stream",
     "text": [
      "/bin/bash: googler: command not found\n"
     ]
    }
   ],
   "source": [
    "!googler -h\n"
   ]
  }
 ],
 "metadata": {
  "colab": {
   "name": "textblob_demo.ipynb",
   "provenance": [],
   "version": "0.3.2"
  },
  "kernelspec": {
   "display_name": "Python 3",
   "language": "python",
   "name": "python3"
  },
  "language_info": {
   "codemirror_mode": {
    "name": "ipython",
    "version": 3
   },
   "file_extension": ".py",
   "mimetype": "text/x-python",
   "name": "python",
   "nbconvert_exporter": "python",
   "pygments_lexer": "ipython3",
   "version": "3.6.2"
  }
 },
 "nbformat": 4,
 "nbformat_minor": 1
}
