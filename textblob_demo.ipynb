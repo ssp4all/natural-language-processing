{
 "cells": [
  {
   "cell_type": "code",
   "execution_count": 3,
   "metadata": {
    "colab": {},
    "colab_type": "code",
    "id": "V9mZRvHV6fer"
   },
   "outputs": [],
   "source": [
    "import nltk\n",
    "# from nltk.book import *\n",
    "from textblob import TextBlob\n",
    "# !pip install textblob"
   ]
  },
  {
   "cell_type": "code",
   "execution_count": 4,
   "metadata": {
    "colab": {
     "base_uri": "https://localhost:8080/",
     "height": 168
    },
    "colab_type": "code",
    "executionInfo": {
     "elapsed": 1370,
     "status": "ok",
     "timestamp": 1549862573363,
     "user": {
      "displayName": "SURAJ PAWAR",
      "photoUrl": "https://lh3.googleusercontent.com/-AyjYqK2CgTs/AAAAAAAAAAI/AAAAAAAAAi0/7DFu2E8Fno8/s64/photo.jpg",
      "userId": "15683806829583900212"
     },
     "user_tz": -330
    },
    "id": "Lk82B-jX6tTs",
    "outputId": "baeda488-fd45-4909-c475-1ed2c2070fbd"
   },
   "outputs": [
    {
     "name": "stdout",
     "output_type": "stream",
     "text": [
      "[nltk_data] Downloading package punkt to /home/ssp/nltk_data...\n",
      "[nltk_data]   Unzipping tokenizers/punkt.zip.\n",
      "[nltk_data] Downloading package averaged_perceptron_tagger to\n",
      "[nltk_data]     /home/ssp/nltk_data...\n",
      "[nltk_data]   Unzipping taggers/averaged_perceptron_tagger.zip.\n",
      "[nltk_data] Downloading package brown to /home/ssp/nltk_data...\n",
      "[nltk_data]   Unzipping corpora/brown.zip.\n"
     ]
    },
    {
     "data": {
      "text/plain": [
       "True"
      ]
     },
     "execution_count": 4,
     "metadata": {},
     "output_type": "execute_result"
    }
   ],
   "source": [
    "nltk.download('punkt')\n",
    "nltk.download('averaged_perceptron_tagger')\n",
    "nltk.download('brown')"
   ]
  },
  {
   "cell_type": "code",
   "execution_count": 6,
   "metadata": {
    "colab": {
     "base_uri": "https://localhost:8080/",
     "height": 151
    },
    "colab_type": "code",
    "executionInfo": {
     "elapsed": 1432,
     "status": "ok",
     "timestamp": 1549862958441,
     "user": {
      "displayName": "SURAJ PAWAR",
      "photoUrl": "https://lh3.googleusercontent.com/-AyjYqK2CgTs/AAAAAAAAAAI/AAAAAAAAAi0/7DFu2E8Fno8/s64/photo.jpg",
      "userId": "15683806829583900212"
     },
     "user_tz": -330
    },
    "id": "ZvbYl1kw7LgJ",
    "outputId": "fdd22cbb-3751-4790-fc03-cb9f03cbdbd9"
   },
   "outputs": [
    {
     "name": "stdout",
     "output_type": "stream",
     "text": [
      "0.5666666666666667\n",
      "0.5\n",
      "0.21428571428571427\n",
      "0.0\n",
      "0.0\n",
      "0.3\n",
      "1.0\n",
      "0.1\n"
     ]
    }
   ],
   "source": [
    "\n",
    "text = '''\n",
    "Do conform to the site's robot.txt request, this is probably one of the best and most ethical ways of coming to an agreement without speaking to anyone on the site.\n",
    "Do identify yourself appropriately in the UserAgent header. By doing this, the site can see who you are and restrict/allow certain areas of their site to you explicitly. For example look at the big guy's user agents, Google is listed below, and devise one similar which has a page describing who you are and how to inform your bots crawling.\n",
    "Google's user-agent string : Googlebot/1.0 (googlebot@googlebot.com http://googlebot.com/)\n",
    "Do use compression gzip/deflate if site supports, this saves you time and the site bandwidth.\n",
    "You should be ok from a legal standpoint (although I am no attorney nor legal expert) should you follow their robots.txt AND terms of service.\n",
    "In the end however I think the best advice was from runrunraygun considering its a lone site. Contacting the administrator and seeing what would be acceptable and respecting their wishes will get you far.\n",
    "'''\n",
    "\n",
    "blob = TextBlob(text)\n",
    "# print(blob)\n",
    "# blob.tags           # [('The', 'DT'), ('titular', 'JJ'),\n",
    "#                     #  ('threat', 'NN'), ('of', 'IN'), ...]\n",
    "\n",
    "blob.noun_phrases   # WordList(['titular threat', 'blob',\n",
    "#                     #            'ultimate movie monster',\n",
    "#                     #            'amoeba-like mass', ...])\n",
    "\n",
    "for sentence in blob.sentences:\n",
    "    print(sentence.sentiment.polarity)\n",
    "# 0.060\n",
    "# -0.341\n",
    "\n",
    "# blob.translate(to=\"es\")  # 'La amenaza titular de The Blob...'"
   ]
  },
  {
   "cell_type": "code",
   "execution_count": 5,
   "metadata": {
    "colab": {},
    "colab_type": "code",
    "id": "tT_MC08YB2Mh"
   },
   "outputs": [
    {
     "name": "stdout",
     "output_type": "stream",
     "text": [
      "[nltk_data] Downloading package brown to /home/ssp/nltk_data...\n",
      "[nltk_data]   Package brown is already up-to-date!\n",
      "[nltk_data] Downloading package punkt to /home/ssp/nltk_data...\n",
      "[nltk_data]   Package punkt is already up-to-date!\n",
      "[nltk_data] Downloading package wordnet to /home/ssp/nltk_data...\n",
      "[nltk_data]   Unzipping corpora/wordnet.zip.\n",
      "[nltk_data] Downloading package averaged_perceptron_tagger to\n",
      "[nltk_data]     /home/ssp/nltk_data...\n",
      "[nltk_data]   Package averaged_perceptron_tagger is already up-to-\n",
      "[nltk_data]       date!\n",
      "[nltk_data] Downloading package conll2000 to /home/ssp/nltk_data...\n",
      "[nltk_data]   Unzipping corpora/conll2000.zip.\n",
      "[nltk_data] Downloading package movie_reviews to\n",
      "[nltk_data]     /home/ssp/nltk_data...\n",
      "[nltk_data]   Unzipping corpora/movie_reviews.zip.\n",
      "Finished.\n"
     ]
    }
   ],
   "source": [
    "!python -m textblob.download_corpora"
   ]
  },
  {
   "cell_type": "code",
   "execution_count": 7,
   "metadata": {
    "colab": {
     "base_uri": "https://localhost:8080/",
     "height": 54
    },
    "colab_type": "code",
    "executionInfo": {
     "elapsed": 1328,
     "status": "ok",
     "timestamp": 1549863420901,
     "user": {
      "displayName": "SURAJ PAWAR",
      "photoUrl": "https://lh3.googleusercontent.com/-AyjYqK2CgTs/AAAAAAAAAAI/AAAAAAAAAi0/7DFu2E8Fno8/s64/photo.jpg",
      "userId": "15683806829583900212"
     },
     "user_tz": -330
    },
    "id": "6nE1y02_DkD2",
    "outputId": "1e69e949-eeb6-49b5-a038-a4e6e5390e94"
   },
   "outputs": [
    {
     "data": {
      "text/plain": [
       "WordList([\"\\nDo conform to the site's robot.txt request, this is probably one of the best and most ethical ways of coming to an agreement without speaking to anyone on the site.\\nDo identify yourself appropriately in the UserAgent header. By doing this, the site can see who you are and restrict/allow certain areas of their site to you explicitly. For example look at the big guy's user agents, Google is listed below, and devise one similar which has a page describing who you are and how to inform your bots crawling.\\nGoogle's user-agent string : Googlebot/1.0 (googlebot@googlebot.com http://googlebot.com/)\\nDo use compression gzip/deflate if site supports, this saves you time and the site bandwidth.\\nYou should be ok from a legal standpoint (although I am no attorney nor legal expert) should you follow their robots.txt AND terms of service.\\nIn the end however I think the best advice was from runrunraygun considering its a lone site. Contacting the administrator and seeing what would be acceptable and respecting their wishes will get you far.\\n\"])"
      ]
     },
     "execution_count": 7,
     "metadata": {},
     "output_type": "execute_result"
    }
   ],
   "source": [
    "from textblob import TextBlob\n",
    "from nltk.tokenize import TabTokenizer\n",
    "tokenizer = TabTokenizer()\n",
    "blob = TextBlob(text, tokenizer=tokenizer)\n",
    "blob.tokens"
   ]
  },
  {
   "cell_type": "code",
   "execution_count": 8,
   "metadata": {
    "colab": {
     "base_uri": "https://localhost:8080/",
     "height": 54
    },
    "colab_type": "code",
    "executionInfo": {
     "elapsed": 1111,
     "status": "ok",
     "timestamp": 1549863562038,
     "user": {
      "displayName": "SURAJ PAWAR",
      "photoUrl": "https://lh3.googleusercontent.com/-AyjYqK2CgTs/AAAAAAAAAAI/AAAAAAAAAi0/7DFu2E8Fno8/s64/photo.jpg",
      "userId": "15683806829583900212"
     },
     "user_tz": -330
    },
    "id": "mXftN6OfD9_Y",
    "outputId": "d2fa7af3-c4fc-4883-904b-912c8c0420c0"
   },
   "outputs": [
    {
     "data": {
      "text/plain": [
       "WordList([\"Do conform to the site's robot.txt request, this is probably one of the best and most ethical ways of coming to an agreement without speaking to anyone on the site.\\nDo identify yourself appropriately in the UserAgent header. By doing this, the site can see who you are and restrict/allow certain areas of their site to you explicitly. For example look at the big guy's user agents, Google is listed below, and devise one similar which has a page describing who you are and how to inform your bots crawling.\\nGoogle's user-agent string : Googlebot/1.0 (googlebot@googlebot.com http://googlebot.com/)\\nDo use compression gzip/deflate if site supports, this saves you time and the site bandwidth.\\nYou should be ok from a legal standpoint (although I am no attorney nor legal expert) should you follow their robots.txt AND terms of service.\\nIn the end however I think the best advice was from runrunraygun considering its a lone site. Contacting the administrator and seeing what would be acceptable and respecting their wishes will get you far.\"])"
      ]
     },
     "execution_count": 8,
     "metadata": {},
     "output_type": "execute_result"
    }
   ],
   "source": [
    "from textblob import TextBlob\n",
    "from nltk.tokenize import BlanklineTokenizer\n",
    "tokenizer = BlanklineTokenizer()\n",
    "blob = TextBlob(text.strip('\\n'))\n",
    "blob.tokenize(tokenizer)"
   ]
  },
  {
   "cell_type": "code",
   "execution_count": 35,
   "metadata": {
    "colab": {
     "base_uri": "https://localhost:8080/",
     "height": 54
    },
    "colab_type": "code",
    "executionInfo": {
     "elapsed": 4432,
     "status": "ok",
     "timestamp": 1549863605433,
     "user": {
      "displayName": "SURAJ PAWAR",
      "photoUrl": "https://lh3.googleusercontent.com/-AyjYqK2CgTs/AAAAAAAAAAI/AAAAAAAAAi0/7DFu2E8Fno8/s64/photo.jpg",
      "userId": "15683806829583900212"
     },
     "user_tz": -330
    },
    "id": "egxtgeCLEV4R",
    "outputId": "4d4347ef-ec44-480f-a828-fb097b36b6f4"
   },
   "outputs": [
    {
     "data": {
      "text/plain": [
       "WordList(['robot.txt request', 'useragent header', 'big guy', 'google', 'google', 'user-agent string', 'googlebot/1.0', 'googlebot@googlebot.com http://googlebot.com/', 'use compression', 'site bandwidth', 'legal standpoint', 'legal expert', 'lone site'])"
      ]
     },
     "execution_count": 35,
     "metadata": {
      "tags": []
     },
     "output_type": "execute_result"
    }
   ],
   "source": [
    ">>> from textblob import TextBlob\n",
    ">>> from textblob.np_extractors import ConllExtractor\n",
    ">>> extractor = ConllExtractor()\n",
    ">>> blob = TextBlob(text, np_extractor=extractor)\n",
    ">>> blob.noun_phrases"
   ]
  },
  {
   "cell_type": "code",
   "execution_count": 9,
   "metadata": {
    "colab": {
     "base_uri": "https://localhost:8080/",
     "height": 339
    },
    "colab_type": "code",
    "executionInfo": {
     "elapsed": 25810,
     "status": "ok",
     "timestamp": 1549863950644,
     "user": {
      "displayName": "SURAJ PAWAR",
      "photoUrl": "https://lh3.googleusercontent.com/-AyjYqK2CgTs/AAAAAAAAAAI/AAAAAAAAAi0/7DFu2E8Fno8/s64/photo.jpg",
      "userId": "15683806829583900212"
     },
     "user_tz": -330
    },
    "id": "2IPWjtLnFXzH",
    "outputId": "792154eb-7b63-4beb-be1b-5a36fff36b79"
   },
   "outputs": [
    {
     "name": "stdout",
     "output_type": "stream",
     "text": [
      "Requirement already satisfied: googler in /home/ssp/anaconda3/lib/python3.6/site-packages (1.0.1)\n",
      "Requirement already satisfied: pycrypto in /home/ssp/anaconda3/lib/python3.6/site-packages (from googler) (2.6.1)\n",
      "Requirement already satisfied: requests in /home/ssp/.local/lib/python3.6/site-packages (from googler) (2.18.4)\n",
      "Requirement already satisfied: chardet<3.1.0,>=3.0.2 in /home/ssp/.local/lib/python3.6/site-packages (from requests->googler) (3.0.4)\n",
      "Requirement already satisfied: urllib3<1.23,>=1.21.1 in /home/ssp/.local/lib/python3.6/site-packages (from requests->googler) (1.22)\n",
      "Requirement already satisfied: idna<2.7,>=2.5 in /home/ssp/.local/lib/python3.6/site-packages (from requests->googler) (2.6)\n",
      "Requirement already satisfied: certifi>=2017.4.17 in /home/ssp/.local/lib/python3.6/site-packages (from requests->googler) (2017.11.5)\n"
     ]
    }
   ],
   "source": [
    "!pip install googler\n"
   ]
  },
  {
   "cell_type": "code",
   "execution_count": 39,
   "metadata": {
    "colab": {
     "base_uri": "https://localhost:8080/",
     "height": 34
    },
    "colab_type": "code",
    "executionInfo": {
     "elapsed": 4626,
     "status": "ok",
     "timestamp": 1549864067029,
     "user": {
      "displayName": "SURAJ PAWAR",
      "photoUrl": "https://lh3.googleusercontent.com/-AyjYqK2CgTs/AAAAAAAAAAI/AAAAAAAAAi0/7DFu2E8Fno8/s64/photo.jpg",
      "userId": "15683806829583900212"
     },
     "user_tz": -330
    },
    "id": "1vKEXMB6Ftad",
    "outputId": "c154972d-903b-490f-cd0e-063b1bb059dc"
   },
   "outputs": [
    {
     "name": "stdout",
     "output_type": "stream",
     "text": [
      "/bin/bash: googler: command not found\n"
     ]
    }
   ],
   "source": []
  }
 ],
 "metadata": {
  "colab": {
   "name": "textblob_demo.ipynb",
   "provenance": [],
   "version": "0.3.2"
  },
  "kernelspec": {
   "display_name": "Python 3",
   "language": "python",
   "name": "python3"
  },
  "language_info": {
   "codemirror_mode": {
    "name": "ipython",
    "version": 3
   },
   "file_extension": ".py",
   "mimetype": "text/x-python",
   "name": "python",
   "nbconvert_exporter": "python",
   "pygments_lexer": "ipython3",
   "version": "3.6.2"
  }
 },
 "nbformat": 4,
 "nbformat_minor": 1
}
